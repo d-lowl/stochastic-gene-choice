{
 "cells": [
  {
   "cell_type": "code",
   "execution_count": null,
   "metadata": {},
   "outputs": [],
   "source": [
    "import pickle\n",
    "import numpy as np\n",
    "import seaborn as sns\n",
    "import matplotlib.pyplot as plt\n",
    "import pandas as pd\n",
    "from scipy.stats import ks_2samp\n",
    "from statsmodels.distributions.empirical_distribution import ECDF\n",
    "from tqdm import tqdm, tqdm_notebook\n",
    "tqdm_notebook().pandas()\n",
    "from statsmodels.stats.proportion import proportion_confint\n",
    "from matplotlib.colors import LogNorm"
   ]
  },
  {
   "cell_type": "code",
   "execution_count": null,
   "metadata": {},
   "outputs": [],
   "source": [
    "dich_type = \"geomean\"\n",
    "dataset = \"Yu_First_wave_endocrine_cells\"\n",
    "checkpoint = \"1000\""
   ]
  },
  {
   "cell_type": "code",
   "execution_count": null,
   "metadata": {},
   "outputs": [],
   "source": [
    "orig_df = pd.read_csv(\"{}.csv\".format(dataset), index_col=\"gene_id\")\n",
    "# orig_df = pd.read_csv(\"{}/intermediate/{}/dichotomised_genes.csv\".format(dataset, dich_type), index_col=\"gene_id\")"
   ]
  },
  {
   "cell_type": "code",
   "execution_count": null,
   "metadata": {},
   "outputs": [],
   "source": [
    "dichotomised_df = pd.read_csv(\"{}/intermediate/{}/dichotomised_genes.csv\".format(dataset, dich_type), index_col=\"gene_id\")"
   ]
  },
  {
   "cell_type": "code",
   "execution_count": null,
   "metadata": {},
   "outputs": [],
   "source": [
    "# chr_names = list(range(1,22)) + [\"X\", \"Y\"]\n",
    "chr_names = list(range(1,20)) + [\"X\", \"Y\"]\n",
    "ic_dfs = [pd.read_csv(\"{}/results/{}/stage1_chr{}_IC.csv\".format(dataset,dich_type,x)) for x in chr_names]\n",
    "chrs = {x: pd.read_csv(\"{}/intermediate/chr{}_filtered.csv\".format(dataset, x)) for x in chr_names}\n",
    "filtered_genes = pd.read_csv(\"{}/intermediate/{}/filtered_dichotomised_genes.csv\".format(dataset, dich_type))\n",
    "for i, name in zip(range(len(ic_dfs)), chr_names):\n",
    "    ic_dfs[i].loc[:,\"chromosome\"] = name\n",
    "\n",
    "ic_df = pd.concat(ic_dfs).reset_index(drop=True)"
   ]
  },
  {
   "cell_type": "code",
   "execution_count": null,
   "metadata": {},
   "outputs": [],
   "source": [
    "ic_df.dropna()"
   ]
  },
  {
   "cell_type": "code",
   "execution_count": null,
   "metadata": {},
   "outputs": [],
   "source": [
    "shuffled_ic_df = pd.read_csv(\"{}/results/{}/shuffled_IC.csv\".format(dataset, dich_type))"
   ]
  },
  {
   "cell_type": "code",
   "execution_count": null,
   "metadata": {},
   "outputs": [],
   "source": [
    "shuffled_ic_df"
   ]
  },
  {
   "cell_type": "markdown",
   "metadata": {},
   "source": [
    "# KS-test"
   ]
  },
  {
   "cell_type": "code",
   "execution_count": null,
   "metadata": {},
   "outputs": [],
   "source": [
    "sns.set(context=\"notebook\", style=\"ticks\", font=\"Helvetica\")\n",
    "\n",
    "def get_norm(arr):\n",
    "    return {\n",
    "        \"weights\": np.ones(len(arr)) / len(arr)\n",
    "    }\n",
    "\n",
    "ks_summaries = []\n",
    "for stretch in [7,14,21]:\n",
    "    n_bins=50\n",
    "    display(\"Stretch size {}\".format(stretch))\n",
    "    sequential = ic_df[(ic_df.stretch == stretch) & (ic_df.n_genes >= stretch / 7 * 6)].ic\n",
    "    shuffled = shuffled_ic_df[(shuffled_ic_df.stretch == stretch) & (shuffled_ic_df.n_genes > stretch / 7 * 6)].ic\n",
    "    display(ks_2samp(sequential, shuffled))\n",
    "    ks_summaries += [{\n",
    "        \"stretch_size\": stretch,\n",
    "        \"ks\": ks_2samp(sequential, shuffled)\n",
    "    }]\n",
    "    bins=np.histogram(shuffled.dropna(), bins=n_bins)[1]\n",
    "    sns.distplot(sequential.dropna(), kde=False, hist_kws=get_norm(sequential.dropna()), label=\"Original\", bins=bins)\n",
    "    sns.distplot(shuffled.dropna(), kde=False, hist_kws=get_norm(shuffled.dropna()), label=\"Shuffled\", bins=bins)\n",
    "    plt.legend()\n",
    "#     plt.arrow(2.18,1.5,0,-1,head_width=0.02, fc='k', ec='k')\n",
    "#     plt.arrow(2.23,1.5,0,-1,head_width=0.02, fc='k', ec='k')\n",
    "#     plt.arrow(2.57,1.2,0,-1,head_width=0.05, fc='k', ec='k')\n",
    "#     plt.arrow(2.63,1.2,0,-1,head_width=0.05, fc='k', ec='k')\n",
    "    \n",
    "    plt.show()\n",
    "    \n",
    "    df_ecdf = ECDF(sequential)\n",
    "    shuffled_df_ecdf = ECDF(shuffled)\n",
    "    x = np.arange(0,5,0.01)\n",
    "    sns.lineplot(x, df_ecdf(x), drawstyle='steps-post')\n",
    "    sns.lineplot(x, shuffled_df_ecdf(x), drawstyle='steps-post')\n",
    "    sns.lineplot(x, shuffled_df_ecdf(x) - df_ecdf(x), drawstyle='steps-post')\n",
    "    plt.show()"
   ]
  },
  {
   "cell_type": "markdown",
   "metadata": {},
   "source": [
    "For the figure"
   ]
  },
  {
   "cell_type": "code",
   "execution_count": null,
   "metadata": {},
   "outputs": [],
   "source": [
    "stretch=14\n",
    "n_bins=50\n",
    "sns.set(font_scale=1.5, style=\"ticks\", font=\"Arial\")\n",
    "display(\"Stretch size {}\".format(stretch))\n",
    "sequential = ic_df[(ic_df.stretch == stretch) & (ic_df.n_genes >= stretch / 7 * 6)].ic\n",
    "shuffled = shuffled_ic_df[(shuffled_ic_df.stretch == stretch) & (shuffled_ic_df.n_genes >= stretch / 7 * 6)].ic\n",
    "display(ks_2samp(sequential, shuffled))\n",
    "ks_summaries += [{\n",
    "    \"stretch_size\": stretch,\n",
    "    \"ks\": ks_2samp(sequential, shuffled)\n",
    "}]\n",
    "bins=np.histogram(shuffled.dropna(), bins=n_bins)[1]\n",
    "\n",
    "sns.distplot(sequential.dropna(), kde=False, hist_kws=get_norm(sequential.dropna()), label=\"Original\", bins=bins)\n",
    "sns.distplot(shuffled.dropna(), kde=False, hist_kws=get_norm(shuffled.dropna()), label=\"Shuffled\", bins=bins)\n",
    "plt.legend()\n",
    "plt.xlabel(\"IC\")\n",
    "plt.ylabel(\"Frequency\")\n",
    "#     plt.arrow(2.18,1.5,0,-1,head_width=0.02, fc='k', ec='k')\n",
    "#     plt.arrow(2.23,1.5,0,-1,head_width=0.02, fc='k', ec='k')\n",
    "#     plt.arrow(2.57,1.2,0,-1,head_width=0.05, fc='k', ec='k')\n",
    "#     plt.arrow(2.63,1.2,0,-1,head_width=0.05, fc='k', ec='k')\n",
    "\n",
    "plt.show()"
   ]
  },
  {
   "cell_type": "code",
   "execution_count": null,
   "metadata": {},
   "outputs": [],
   "source": [
    "pd.DataFrame([{\"stretch\": x['stretch_size'], \"pvalue\": x[\"ks\"][1]} for x in ks_summaries]).set_index(\"stretch\").T.to_csv(\"{}/chr_ks.csv\".format(dataset), index=False)"
   ]
  },
  {
   "cell_type": "markdown",
   "metadata": {},
   "source": [
    "# Permutation tests (genes shuffled)"
   ]
  },
  {
   "cell_type": "code",
   "execution_count": null,
   "metadata": {},
   "outputs": [],
   "source": [
    "def get_statistics(df):\n",
    "    ics = df.ic\n",
    "    return pd.Series({\n",
    "        \"median\": ics.median(),\n",
    "        \"percentile_90\": ics.quantile(0.9),\n",
    "        \"percentile_10\": ics.quantile(0.1),\n",
    "        \"percentile_97.5\": ics.quantile(0.975),\n",
    "        \"percentile_02.5\": ics.quantile(0.025),\n",
    "        \"quantile_ratio\": ics.quantile(0.9) / ics.quantile(0.1),\n",
    "#         \"skew\": ics.skew()\n",
    "    })"
   ]
  },
  {
   "cell_type": "code",
   "execution_count": null,
   "metadata": {},
   "outputs": [],
   "source": [
    "sns.set(context=\"notebook\", style=\"ticks\", font=\"Helvetica\")\n",
    "permutation_summaries = []\n",
    "for stretch in [7,14,21]:\n",
    "    display(\"Stretch \"+str(stretch))\n",
    "    orig = ic_df[(ic_df.stretch == stretch) & (ic_df.n_genes >= stretch / 7 * 6)]\n",
    "    shuffled = shuffled_ic_df[(shuffled_ic_df.stretch == stretch) & (shuffled_ic_df.n_genes >= stretch / 7 * 6)]\n",
    "    orig_statistics = get_statistics(orig)\n",
    "    shuffled_statistics = shuffled.groupby(\"iteration\").progress_apply(get_statistics)\n",
    "#     total_shuffled_statistic = get_statistics(shuffled) #WRONG, this is not median\n",
    "    total_shuffled_statistic = shuffled_statistics.median()\n",
    "    \n",
    "#     lower_count = (shuffled_statistics <= orig_statistics).sum()\n",
    "#     upper_count = (shuffled_statistics >= orig_statistics).sum()\n",
    "#     lower_pvalue = (lower_count + 1) / (shuffled_statistics.shape[0] + 1)\n",
    "#     upper_pvalue = (upper_count + 1) / (shuffled_statistics.shape[0] + 1)\n",
    "    \n",
    "    shuf_mean = shuffled_statistics.mean(axis=0)\n",
    "    orig_diff = np.abs(orig_statistics - shuf_mean)\n",
    "    shuf_diff = shuffled_statistics.subtract(shuf_mean).abs()\n",
    "    pvalue = ((shuf_diff >= orig_diff).sum(axis=0) + 1) / (shuffled_statistics.shape[0] + 1)\n",
    "    print(\"shuf_mean\",shuf_mean)\n",
    "    print(\"OrigDiff\",orig_diff)\n",
    "    print(\"shuf_diff\",shuf_diff)\n",
    "    pvalues = pd.DataFrame({\n",
    "        \"orig_value\": orig_statistics,\n",
    "        \"shuffled_value\": total_shuffled_statistic,\n",
    "#         \"lower_count\": lower_count,\n",
    "#         \"lower_pvalue\": lower_pvalue,\n",
    "#         \"upper_count\": upper_count,\n",
    "#         \"upper_pvalue\": upper_pvalue,\n",
    "        \"pvalue\": pvalue,\n",
    "    })\n",
    "#     pvalues[\"significance\"] = pvalues.apply(lambda x: \"LOWER\" if x.lower_pvalue <= 0.025 else (\"HIGHER\" if x.upper_pvalue <= 0.025 else \"-----\"), axis=1)\n",
    "    permutation_summaries += [pvalues]\n",
    "    display(pvalues)\n",
    "    \n",
    "    _, axs = plt.subplots(3,3,figsize=(15,12))\n",
    "    for ax, statistic in zip(np.array(axs).flatten(), orig_statistics.index):\n",
    "        sns.distplot(shuffled_statistics[statistic], ax=ax, kde=False, rug=False, label=\"Shuffled\")\n",
    "        sns.distplot([orig_statistics[statistic]], ax=ax, kde=False, hist=False, rug=True, rug_kws={\"height\": 0.5}, label=\"Original\")\n",
    "        sns.distplot([total_shuffled_statistic[statistic]], ax=ax, kde=False, hist=False, rug=True, rug_kws={\"height\": 0.5}, label=\"Median Shuffled\")\n",
    "        ax.legend()\n",
    "    plt.show()\n",
    "    \n",
    "    statistic = \"quantile_ratio\"\n",
    "    sns.distplot(shuffled_statistics[statistic], kde=False, rug=False, label=\"Shuffled\")\n",
    "    sns.distplot([orig_statistics[statistic]], kde=False, hist=False, rug=True, rug_kws={\"height\": 0.95}, label=\"Original\")\n",
    "    sns.distplot([total_shuffled_statistic[statistic]], kde=False, hist=False, rug=True, rug_kws={\"height\": 0.95}, label=\"Median Shuffled\")\n",
    "    plt.legend()\n",
    "    plt.xlabel(\"Quantile Ratio\")\n",
    "    plt.show()\n",
    "    \n",
    "    statistic = \"percentile_10\"\n",
    "    sns.distplot(shuffled_statistics[statistic], kde=False, rug=False, label=\"Shuffled\")\n",
    "    sns.distplot([orig_statistics[statistic]], kde=False, hist=False, rug=True, rug_kws={\"height\": 0.95}, label=\"Original\")\n",
    "    sns.distplot([total_shuffled_statistic[statistic]], kde=False, hist=False, rug=True, rug_kws={\"height\": 0.95}, label=\"Median Shuffled\")\n",
    "    plt.legend()\n",
    "    plt.xlabel(\"10th Percentile\")\n",
    "    plt.show()\n",
    "    \n",
    "    statistic = \"percentile_90\"\n",
    "    sns.distplot(shuffled_statistics[statistic], kde=False, rug=False, label=\"Shuffled\")\n",
    "    sns.distplot([orig_statistics[statistic]], kde=False, hist=False, rug=True, rug_kws={\"height\": 0.95}, label=\"Original\")\n",
    "    sns.distplot([total_shuffled_statistic[statistic]], kde=False, hist=False, rug=True, rug_kws={\"height\": 0.95}, label=\"Median Shuffled\")\n",
    "    plt.legend()\n",
    "    plt.xlabel(\"90th Percentile\")\n",
    "    plt.show()\n",
    "    \n",
    "    df = pd.DataFrame([\n",
    "        [\"Quantile Ratio\", pvalues.loc[\"quantile_ratio\", \"orig_value\"], \"Original\"],\n",
    "        [\"Quantile Ratio\", pvalues.loc[\"quantile_ratio\", \"shuffled_value\"], \"Median Shuffled\"],\n",
    "        [\"90%\", pvalues.loc[\"percentile_90\", \"orig_value\"], \"Original\"],\n",
    "        [\"90%\", pvalues.loc[\"percentile_90\", \"shuffled_value\"], \"Median Shuffled\"],\n",
    "        [\"97.5%\", pvalues.loc[\"percentile_97.5\", \"orig_value\"], \"Original\"],\n",
    "        [\"97.5%\", pvalues.loc[\"percentile_97.5\", \"shuffled_value\"], \"Median Shuffled\"],\n",
    "        [\"2.5%\", pvalues.loc[\"percentile_02.5\", \"orig_value\"], \"Original\"],\n",
    "        [\"2.5%\", pvalues.loc[\"percentile_02.5\", \"shuffled_value\"], \"Median Shuffled\"],\n",
    "        [\"10%\", pvalues.loc[\"percentile_10\", \"orig_value\"], \"Original\"],\n",
    "        [\"10%\", pvalues.loc[\"percentile_10\", \"shuffled_value\"], \"Median Shuffled\"],\n",
    "    ], columns=[\"metric\", \"value\", \"Distribution\"])\n",
    "\n",
    "    sns.catplot(data=df, x=\"metric\", y=\"value\", hue=\"Distribution\", kind=\"bar\", sharey=False)\n",
    "    plt.xlabel(\"\")\n",
    "    plt.ylabel(\"\")\n",
    "    plt.show()\n",
    "    \n",
    "#     if stretch == 14:\n",
    "    pvalues.index.name = \"metric\"\n",
    "    pvalues.to_csv(\"{}/chr_stat_test_pvalues_{}.csv\".format(dataset, stretch))\n",
    "    "
   ]
  }
 ],
 "metadata": {
  "kernelspec": {
   "display_name": "Python 3.7.4 64-bit ('stochastic': conda)",
   "language": "python",
   "name": "python37464bitstochasticcondad3c784986b534aaebb6b91784b827746"
  },
  "language_info": {
   "codemirror_mode": {
    "name": "ipython",
    "version": 3
   },
   "file_extension": ".py",
   "mimetype": "text/x-python",
   "name": "python",
   "nbconvert_exporter": "python",
   "pygments_lexer": "ipython3",
   "version": "3.7.6"
  }
 },
 "nbformat": 4,
 "nbformat_minor": 4
}
